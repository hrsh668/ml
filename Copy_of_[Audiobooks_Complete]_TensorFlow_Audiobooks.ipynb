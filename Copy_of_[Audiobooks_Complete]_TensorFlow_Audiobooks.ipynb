{
  "cells": [
    {
      "cell_type": "markdown",
      "metadata": {
        "id": "view-in-github",
        "colab_type": "text"
      },
      "source": [
        "<a href=\"https://colab.research.google.com/github/hrsh668/ml/blob/main/Copy_of_%5BAudiobooks_Complete%5D_TensorFlow_Audiobooks.ipynb\" target=\"_parent\"><img src=\"https://colab.research.google.com/assets/colab-badge.svg\" alt=\"Open In Colab\"/></a>"
      ]
    },
    {
      "cell_type": "markdown",
      "metadata": {
        "id": "VSEDCtnsN-5u"
      },
      "source": [
        "# Audiobooks business case"
      ]
    },
    {
      "cell_type": "markdown",
      "metadata": {
        "id": "OziIpbTgN-5w"
      },
      "source": [
        "### Extract the data from the csv"
      ]
    },
    {
      "cell_type": "code",
      "execution_count": null,
      "metadata": {
        "colab": {
          "base_uri": "https://localhost:8080/",
          "height": 470
        },
        "id": "cZGJjYcvN-5x",
        "outputId": "879237c9-ddde-47a5-a8b9-974105b527e4"
      },
      "outputs": [
        {
          "output_type": "stream",
          "name": "stdout",
          "text": [
            "Drive already mounted at /content/drive; to attempt to forcibly remount, call drive.mount(\"/content/drive\", force_remount=True).\n"
          ]
        },
        {
          "output_type": "execute_result",
          "data": {
            "text/plain": [
              "<Axes: >"
            ]
          },
          "metadata": {},
          "execution_count": 3
        },
        {
          "output_type": "display_data",
          "data": {
            "text/plain": [
              "<Figure size 640x480 with 2 Axes>"
            ],
            "image/png": "[encoded data removed]"
          },
          "metadata": {}
        }
      ],
      "source": [
        "from google.colab import drive\n",
        "drive.mount('/content/drive')\n",
        "import numpy as np\n",
        "from sklearn import preprocessing\n",
        "import numpy as np\n",
        "import tensorflow as tf\n",
        "import pandas as pd\n",
        "import seaborn as sns\n",
        "# libraries imported\n",
        "\n",
        "raw_csv_data = np.loadtxt('/content/drive/MyDrive/DataSets/Business_case_dataset.csv',delimiter=',')\n",
        "unscaled_inputs_all = raw_csv_data[:,1:-1]\n",
        "targets_all = raw_csv_data[:,-1]\n",
        "df = pd.read_csv('/content/drive/MyDrive/DataSets/Business_case_dataset.csv', header=None)\n",
        "sns.heatmap(df.corr())\n",
        "# csv file uploaded and correlation map created"
      ]
    },
    {
      "cell_type": "markdown",
      "metadata": {
        "id": "dSp0FD4UN-5x"
      },
      "source": [
        "### Balance the dataset"
      ]
    },
    {
      "cell_type": "code",
      "execution_count": null,
      "metadata": {
        "collapsed": true,
        "id": "SWeUiXDAN-5x"
      },
      "outputs": [],
      "source": [
        "num_one_targets = int(np.sum(targets_all))\n",
        "\n",
        "zero_targets_counter = 0\n",
        "\n",
        "indices_to_remove = []\n",
        "\n",
        "for i in range(targets_all.shape[0]):\n",
        "    if targets_all[i] == 0:\n",
        "        zero_targets_counter += 1\n",
        "        if zero_targets_counter > num_one_targets:\n",
        "            indices_to_remove.append(i)\n",
        "# two variables created; one stores the inputs and targets\n",
        "\n",
        "unscaled_inputs_equal_priors = np.delete(unscaled_inputs_all, indices_to_remove, axis=0)\n",
        "targets_equal_priors = np.delete(targets_all, indices_to_remove, axis=0)\n",
        "# additional 0's are removed from targets"
      ]
    },
    {
      "cell_type": "markdown",
      "metadata": {
        "id": "_GLcwBqHN-5x"
      },
      "source": [
        "### Standardize the inputs"
      ]
    },
    {
      "cell_type": "code",
      "execution_count": null,
      "metadata": {
        "id": "hTIFAnDhN-5y"
      },
      "outputs": [],
      "source": [
        "scaled_inputs = preprocessing.scale(unscaled_inputs_equal_priors)\n",
        "# input values are scaled"
      ]
    },
    {
      "cell_type": "markdown",
      "metadata": {
        "id": "TsMCpM2DN-5y"
      },
      "source": [
        "### Shuffle the data"
      ]
    },
    {
      "cell_type": "code",
      "execution_count": null,
      "metadata": {
        "collapsed": true,
        "id": "VweYvBd3N-5y"
      },
      "outputs": [],
      "source": [
        "shuffled_indices = np.arange(scaled_inputs.shape[0])\n",
        "np.random.shuffle(shuffled_indices)\n",
        "# indices are shuffled\n",
        "\n",
        "\n",
        "shuffled_inputs = scaled_inputs[shuffled_indices]\n",
        "shuffled_targets = targets_equal_priors[shuffled_indices]\n",
        "# the shuffled indices are used to shuffle the inputs and targets."
      ]
    },
    {
      "cell_type": "markdown",
      "metadata": {
        "id": "2ry8Kap9N-5y"
      },
      "source": [
        "### Split the dataset into train, validation, and test"
      ]
    },
    {
      "cell_type": "code",
      "execution_count": null,
      "metadata": {
        "id": "cOTBhLZXN-5y"
      },
      "outputs": [],
      "source": [
        "samples_count = shuffled_inputs.shape[0]\n",
        "\n",
        "train_samples_count = int(0.7 * samples_count)\n",
        "validation_samples_count = int(0.2 * samples_count)\n",
        "test_samples_count = samples_count - train_samples_count - validation_samples_count\n",
        "# of training, validating, and testing instances defined\n",
        "\n",
        "\n",
        "train_inputs = shuffled_inputs[:train_samples_count]\n",
        "train_targets = shuffled_targets[:train_samples_count]\n",
        "validation_inputs = shuffled_inputs[train_samples_count:train_samples_count+validation_samples_count]\n",
        "validation_targets = shuffled_targets[train_samples_count:train_samples_count+validation_samples_count]\n",
        "test_inputs = shuffled_inputs[train_samples_count+validation_samples_count:]\n",
        "test_targets = shuffled_targets[train_samples_count+validation_samples_count:]\n",
        "# variables for storing train_inputs, train_targets, validation_targets, etc defined\n"
      ]
    },
    {
      "cell_type": "markdown",
      "metadata": {
        "id": "LkkxbL6oPMCa"
      },
      "source": [
        "## Model Outline"
      ]
    },
    {
      "cell_type": "code",
      "execution_count": null,
      "metadata": {
        "colab": {
          "base_uri": "https://localhost:8080/"
        },
        "id": "JvwVtkzUPXbz",
        "outputId": "e0196c89-7c70-42d6-e700-a3883a6d7691"
      },
      "outputs": [
        {
          "output_type": "stream",
          "name": "stdout",
          "text": [
            "Epoch 1/100\n",
            "32/32 - 1s - loss: 0.5947 - accuracy: 0.7084 - val_loss: 0.4583 - val_accuracy: 0.8837 - 941ms/epoch - 29ms/step\n",
            "Epoch 2/100\n",
            "32/32 - 0s - loss: 0.3904 - accuracy: 0.8767 - val_loss: 0.3217 - val_accuracy: 0.8848 - 122ms/epoch - 4ms/step\n",
            "Epoch 3/100\n",
            "32/32 - 0s - loss: 0.3172 - accuracy: 0.8850 - val_loss: 0.2910 - val_accuracy: 0.8904 - 110ms/epoch - 3ms/step\n",
            "Epoch 4/100\n",
            "32/32 - 0s - loss: 0.2971 - accuracy: 0.8908 - val_loss: 0.2797 - val_accuracy: 0.8915 - 113ms/epoch - 4ms/step\n",
            "Epoch 5/100\n",
            "32/32 - 0s - loss: 0.2839 - accuracy: 0.8959 - val_loss: 0.2717 - val_accuracy: 0.8949 - 123ms/epoch - 4ms/step\n",
            "Epoch 6/100\n",
            "32/32 - 0s - loss: 0.2727 - accuracy: 0.9000 - val_loss: 0.2637 - val_accuracy: 0.8949 - 102ms/epoch - 3ms/step\n",
            "Epoch 7/100\n",
            "32/32 - 0s - loss: 0.2662 - accuracy: 0.8988 - val_loss: 0.2585 - val_accuracy: 0.8971 - 96ms/epoch - 3ms/step\n",
            "Epoch 8/100\n",
            "32/32 - 0s - loss: 0.2605 - accuracy: 0.9019 - val_loss: 0.2601 - val_accuracy: 0.8960 - 102ms/epoch - 3ms/step\n",
            "Epoch 9/100\n",
            "32/32 - 0s - loss: 0.2574 - accuracy: 0.9029 - val_loss: 0.2535 - val_accuracy: 0.9004 - 105ms/epoch - 3ms/step\n",
            "Epoch 10/100\n",
            "32/32 - 0s - loss: 0.2531 - accuracy: 0.9035 - val_loss: 0.2492 - val_accuracy: 0.9038 - 91ms/epoch - 3ms/step\n",
            "Epoch 11/100\n",
            "32/32 - 0s - loss: 0.2521 - accuracy: 0.9077 - val_loss: 0.2570 - val_accuracy: 0.9049 - 95ms/epoch - 3ms/step\n",
            "Epoch 12/100\n",
            "32/32 - 0s - loss: 0.2499 - accuracy: 0.9048 - val_loss: 0.2454 - val_accuracy: 0.9060 - 101ms/epoch - 3ms/step\n",
            "Epoch 13/100\n",
            "32/32 - 0s - loss: 0.2463 - accuracy: 0.9080 - val_loss: 0.2456 - val_accuracy: 0.9049 - 103ms/epoch - 3ms/step\n",
            "Epoch 14/100\n",
            "32/32 - 0s - loss: 0.2431 - accuracy: 0.9077 - val_loss: 0.2420 - val_accuracy: 0.9072 - 107ms/epoch - 3ms/step\n",
            "Epoch 15/100\n",
            "32/32 - 0s - loss: 0.2413 - accuracy: 0.9103 - val_loss: 0.2413 - val_accuracy: 0.9060 - 115ms/epoch - 4ms/step\n",
            "Epoch 16/100\n",
            "32/32 - 0s - loss: 0.2394 - accuracy: 0.9122 - val_loss: 0.2426 - val_accuracy: 0.9072 - 106ms/epoch - 3ms/step\n",
            "Epoch 17/100\n",
            "32/32 - 0s - loss: 0.2392 - accuracy: 0.9115 - val_loss: 0.2415 - val_accuracy: 0.9083 - 96ms/epoch - 3ms/step\n"
          ]
        },
        {
          "output_type": "execute_result",
          "data": {
            "text/plain": [
              "<keras.src.callbacks.History at 0x78ae59110370>"
            ]
          },
          "metadata": {},
          "execution_count": 27
        }
      ],
      "source": [
        "# Set the input and output sizes\n",
        "input_size = 10\n",
        "output_size = 2\n",
        "\n",
        "hidden_layer_size = 50\n",
        "\n",
        "# define how the model will look like\n",
        "model = tf.keras.Sequential([\n",
        "    # tf.keras.layers.Dense is basically implementing: output = activation(dot(input, weight) + bias)\n",
        "    # it takes several arguments, but the most important ones for us are the hidden_layer_size and the activation function\n",
        "       # 1st hidden layer with input size 10 # 1st hidden layer\n",
        "      tf.keras.layers.Dense(hidden_layer_size, activation='relu'),\n",
        "    tf.keras.layers.Dense(hidden_layer_size, activation='relu'),\n",
        "\n",
        "    # the final layer is no different, we just make sure to activate it with softmax\n",
        "    tf.keras.layers.Dense(output_size, activation='softmax') # output lay\n",
        "])\n",
        "\n",
        "### Choose the optimizer and the loss function\n",
        "\n",
        "# we define the optimizer we'd like to use,\n",
        "# the loss function,\n",
        "# and the metrics we are interested in obtaining at each iteration\n",
        "\n",
        "model.compile(optimizer='adam', loss='sparse_categorical_crossentropy', metrics=['accuracy'])\n",
        "\n",
        "### Training\n",
        "# That's where we train the model we have built.\n",
        "\n",
        "# set the batch size\n",
        "batch_size = 100\n",
        "\n",
        "# set a maximum number of training epochs\n",
        "max_epochs = 100\n",
        "\n",
        "# set an early stopping mechanism\n",
        "# let's set patience=2, to be a bit tolerant against random validation loss increases\n",
        "early_stopping = tf.keras.callbacks.EarlyStopping(patience=2)\n",
        "\n",
        "# fit the model\n",
        "# note that this time the train, validation and test data are not iterable\n",
        "model.fit(train_inputs, # train inputs\n",
        "          train_targets, # train targets\n",
        "          batch_size=batch_size, # batch size\n",
        "          epochs=max_epochs, # epochs that we will train for (assuming early stopping doesn't kick in)\n",
        "          callbacks=[early_stopping], # early stopping\n",
        "          validation_data=(validation_inputs, validation_targets), # validation data\n",
        "          verbose = 2 # making sure we get enough information about the training process\n",
        "          )"
      ]
    },
    {
      "cell_type": "markdown",
      "metadata": {
        "id": "i6Acf9KgPqWL"
      },
      "source": [
        "## Test the model"
      ]
    },
    {
      "cell_type": "code",
      "execution_count": null,
      "metadata": {
        "colab": {
          "base_uri": "https://localhost:8080/"
        },
        "id": "og24djjlPr9R",
        "outputId": "673fab23-26e9-4850-9eb6-de69fa326c39"
      },
      "outputs": [
        {
          "output_type": "stream",
          "name": "stdout",
          "text": [
            "15/15 [==============================] - 0s 3ms/step - loss: 0.2437 - accuracy: 0.9065\n",
            "\n",
            "Test loss: 0.24. Test accuracy: 90.65%\n"
          ]
        }
      ],
      "source": [
        "test_loss, test_accuracy = model.evaluate(test_inputs, test_targets)\n",
        "print('\\nTest loss: {0:.2f}. Test accuracy: {1:.2f}%'.format(test_loss, test_accuracy*100.))"
      ]
    }
  ],
  "metadata": {
    "colab": {
      "provenance": [],
      "include_colab_link": true
    },
    "kernelspec": {
      "display_name": "Python 3",
      "language": "python",
      "name": "python3"
    },
    "language_info": {
      "codemirror_mode": {
        "name": "ipython",
        "version": 3
      },
      "file_extension": ".py",
      "mimetype": "text/x-python",
      "name": "python",
      "nbconvert_exporter": "python",
      "pygments_lexer": "ipython3",
      "version": "3.7.4"
    }
  },
  "nbformat": 4,
  "nbformat_minor": 0
}