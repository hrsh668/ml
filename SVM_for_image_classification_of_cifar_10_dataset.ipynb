{
  "nbformat": 4,
  "nbformat_minor": 0,
  "metadata": {
    "colab": {
      "provenance": [],
      "authorship_tag": "ABX9TyP1aFJuF7bv6AqDDn14UZGJ",
      "include_colab_link": true
    },
    "kernelspec": {
      "name": "python3",
      "display_name": "Python 3"
    },
    "language_info": {
      "name": "python"
    }
  },
  "cells": [
    {
      "cell_type": "markdown",
      "metadata": {
        "id": "view-in-github",
        "colab_type": "text"
      },
      "source": [
        "<a href=\"https://colab.research.google.com/github/hrsh668/ml/blob/main/SVM_for_image_classification_of_cifar_10_dataset.ipynb\" target=\"_parent\"><img src=\"https://colab.research.google.com/assets/colab-badge.svg\" alt=\"Open In Colab\"/></a>"
      ]
    },
    {
      "cell_type": "code",
      "execution_count": null,
      "metadata": {
        "id": "UCI4kg9RfUtx"
      },
      "outputs": [],
      "source": [
        "import tensorflow as tf\n",
        "device_name = tf.test.gpu_device_name()\n",
        "if len(device_name) > 0:\n",
        "    print(\"Found GPU at: {}\".format(device_name))\n",
        "else:\n",
        "    device_name = \"/device:CPU:0\"\n",
        "    print(\"No GPU, using {}.\".format(device_name))"
      ]
    },
    {
      "cell_type": "code",
      "source": [
        "import numpy as np\n",
        "from sklearn import datasets\n",
        "from sklearn.model_selection import train_test_split\n",
        "from sklearn.preprocessing import StandardScaler\n",
        "from sklearn.svm import SVC\n",
        "from sklearn.model_selection import RandomizedSearchCV\n",
        "from sklearn.model_selection import GridSearchCV\n",
        "from sklearn.metrics import accuracy_score\n",
        "from scipy.stats import reciprocal, uniform\n",
        "# Load the CIFAR-10 dataset (replace this with your method of loading CIFAR-10)\n",
        "\n",
        "from tensorflow.keras.datasets import cifar10\n",
        "(X_train, y_train), (X_test, y_test) = cifar10.load_data()\n",
        "\n",
        "# Flatten the images into feature vectors\n",
        "X_train_flat = X_train.reshape(X_train.shape[0], -1)\n",
        "X_test_flat = X_test.reshape(X_test.shape[0], -1)\n",
        "\n",
        "# Normalize pixel values to the range [0, 1]\n",
        "X_train_flat = X_train_flat.astype('float32') / 255.0\n",
        "X_test_flat = X_test_flat.astype('float32') / 255.0\n",
        "\n",
        "# Flatten labels (since SVM in scikit-learn expects 1D array as target)\n",
        "y_train_flat = y_train.flatten()\n",
        "y_test_flat = y_test.flatten()\n",
        "fraction_to_keep = 0.1\n",
        "\n",
        "# Split the dataset into training and testing sets\n",
        "X_train, X_val, y_train, y_val = train_test_split(X_train_flat, y_train_flat, test_size=0.001, train_size = fraction_to_keep, random_state=42)\n",
        "\n",
        "# Standardize features\n",
        "scaler = StandardScaler()\n",
        "X_train = scaler.fit_transform(X_train)\n",
        "X_val = scaler.transform(X_val)\n",
        "X_test_flat = scaler.transform(X_test_flat)"
      ],
      "metadata": {
        "id": "jrs2BhSrfYGS"
      },
      "execution_count": null,
      "outputs": []
    },
    {
      "cell_type": "code",
      "source": [
        "# Create an SVM classifier\n",
        "svm = SVC()\n",
        "\n",
        "# Define the parameter grid to search\n",
        "param_grid = {\n",
        "    'C': [0.1, 1, 10],\n",
        "    'kernel': ['linear', 'rbf'],\n",
        "    'gamma': [0.01, 0.1, 1]\n",
        "}"
      ],
      "metadata": {
        "id": "Fry4XNpBfdLh"
      },
      "execution_count": null,
      "outputs": []
    },
    {
      "cell_type": "code",
      "source": [
        "with tf.device(device_name):\n",
        "    grid_search = GridSearchCV(svm, param_grid, cv=5, scoring='accuracy')\n",
        "\n",
        "  # Fit the randomized search to the data\n",
        "    grid_search.fit(X_train, y_train)\n",
        "\n",
        "  # Print the best parameters and the corresponding accuracy\n",
        "    print(\"Best Parameters: \", grid_search.best_params_)\n",
        "    print(\"Best Cross-Validated Accuracy: {:.2f}\".format(grid_search.best_score_))\n",
        "\n",
        "  # Evaluate the best model on the test set\n",
        "    best_svm = grid_search.best_estimator_\n",
        "    test_accuracy = best_svm.score(X_test_flat, y_test)\n",
        "    print(\"Test Set Accuracy: {:.2f}\".format(test_accuracy))"
      ],
      "metadata": {
        "id": "vmU8hGk_ffm_"
      },
      "execution_count": null,
      "outputs": []
    }
  ]
}